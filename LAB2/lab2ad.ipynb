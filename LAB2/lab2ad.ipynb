{
 "cells": [
  {
   "cell_type": "markdown",
   "id": "4f68980069867b2e",
   "metadata": {
    "collapsed": false
   },
   "source": [
    "Importyvannya bibliotek"
   ]
  },
  {
   "cell_type": "code",
   "execution_count": 1,
   "id": "de0396122080d568",
   "metadata": {
    "ExecuteTime": {
     "end_time": "2024-03-30T07:26:14.099849Z",
     "start_time": "2024-03-30T07:26:13.441237Z"
    },
    "collapsed": false
   },
   "outputs": [],
   "source": [
    "import datetime\n",
    "import requests\n",
    "import urllib.request\n",
    "import pandas as pd\n",
    "import os\n"
   ]
  },
  {
   "cell_type": "markdown",
   "id": "cf675c92d0a4a1c",
   "metadata": {
    "collapsed": false
   },
   "source": [
    "Skachuyemo dani vsih oblastey ta zminyuyemo nazvu"
   ]
  },
  {
   "cell_type": "code",
   "execution_count": 2,
   "id": "8dbd24892bd7d25f",
   "metadata": {
    "ExecuteTime": {
     "start_time": "2024-03-30T07:20:16.582507Z"
    },
    "collapsed": false,
    "is_executing": true
   },
   "outputs": [
    {
     "name": "stdout",
     "output_type": "stream",
     "text": [
      "VHI z idshki 1 byla skachena o 2025-05-04_22-35-49\n",
      "VHI z idshki 2 byla skachena o 2025-05-04_22-35-50\n",
      "VHI z idshki 3 byla skachena o 2025-05-04_22-35-53\n",
      "VHI z idshki 4 byla skachena o 2025-05-04_22-35-55\n",
      "VHI z idshki 5 byla skachena o 2025-05-04_22-35-56\n",
      "VHI z idshki 6 byla skachena o 2025-05-04_22-35-58\n",
      "VHI z idshki 7 byla skachena o 2025-05-04_22-36-00\n",
      "VHI z idshki 8 byla skachena o 2025-05-04_22-36-03\n",
      "VHI z idshki 9 byla skachena o 2025-05-04_22-36-08\n",
      "VHI z idshki 10 byla skachena o 2025-05-04_22-36-09\n",
      "VHI z idshki 11 byla skachena o 2025-05-04_22-36-11\n",
      "VHI z idshki 12 byla skachena o 2025-05-04_22-36-13\n",
      "VHI z idshki 13 byla skachena o 2025-05-04_22-36-15\n",
      "VHI z idshki 14 byla skachena o 2025-05-04_22-36-17\n",
      "VHI z idshki 15 byla skachena o 2025-05-04_22-36-18\n",
      "VHI z idshki 16 byla skachena o 2025-05-04_22-36-20\n",
      "VHI z idshki 17 byla skachena o 2025-05-04_22-36-22\n",
      "VHI z idshki 18 byla skachena o 2025-05-04_22-36-24\n",
      "VHI z idshki 19 byla skachena o 2025-05-04_22-36-26\n",
      "VHI z idshki 20 byla skachena o 2025-05-04_22-36-27\n",
      "VHI z idshki 21 byla skachena o 2025-05-04_22-36-29\n",
      "VHI z idshki 22 byla skachena o 2025-05-04_22-36-31\n",
      "VHI z idshki 23 byla skachena o 2025-05-04_22-36-33\n",
      "VHI z idshki 24 byla skachena o 2025-05-04_22-36-35\n",
      "VHI z idshki 25 byla skachena o 2025-05-04_22-36-36\n",
      "VHI z idshki 26 byla skachena o 2025-05-04_22-36-38\n",
      "VHI z idshki 27 byla skachena o 2025-05-04_22-36-40\n"
     ]
    }
   ],
   "source": [
    "for ids in range(1, 28):\n",
    "    url = f\"https://www.star.nesdis.noaa.gov/smcd/emb/vci/VH/get_TS_admin.php?country=UKR&provinceID={ids}&year1=1981&year2=2024&type=Mean\"\n",
    "    response = requests.get(url)\n",
    "    if response.status_code == 200:\n",
    "        if not os.path.exists('vhi'):\n",
    "            os.mkdir('vhi')\n",
    "        date_now = datetime.datetime.now().strftime(\"%Y-%m-%d_%H-%M-%S\")\n",
    "        vhi_url = urllib.request.urlopen(url)\n",
    "        file_name = f'vhi/vhi_id_{ids}_{date_now}.csv'\n",
    "        with open(file_name, 'wb') as out:\n",
    "            out.write(vhi_url.read())\n",
    "        print(f\"VHI z idshki {ids} byla skachena o {date_now}\")\n",
    "    else:\n",
    "        print(f\"Skachuvannya zaversheno\")\n",
    "        break"
   ]
  },
  {
   "cell_type": "markdown",
   "id": "80489f43036ad07f",
   "metadata": {
    "collapsed": false
   },
   "source": [
    "Zchituyemo fayliki y frame ta minyayemo indeksi"
   ]
  },
  {
   "cell_type": "code",
   "execution_count": 3,
   "id": "db482e126477ec7f",
   "metadata": {
    "ExecuteTime": {
     "end_time": "2024-03-30T09:00:42.185037Z",
     "start_time": "2024-03-30T09:00:41.975937Z"
    },
    "collapsed": false
   },
   "outputs": [
    {
     "name": "stdout",
     "output_type": "stream",
     "text": [
      " Dani uspishno obrobleni ta zberezheni y faylik df_all.csv\n",
      "       Year  Week    SMN     SMT    VCI    TCI    VHI  area\n",
      "0      1982   2.0  0.063  261.53  55.89  38.20  47.04    21\n",
      "1      1982   3.0  0.063  263.45  57.30  32.69  44.99    21\n",
      "2      1982   4.0  0.061  265.10  53.96  28.62  41.29    21\n",
      "3      1982   5.0  0.058  266.42  46.87  28.57  37.72    21\n",
      "4      1982   6.0  0.056  267.47  39.55  30.27  34.91    21\n",
      "...     ...   ...    ...     ...    ...    ...    ...   ...\n",
      "58990  2024  48.0  0.135  278.17  55.23  11.86  33.55    20\n",
      "58991  2024  49.0  0.133  277.08  57.71  10.86  34.29    20\n",
      "58992  2024  50.0  0.130  276.49  59.45   8.68  34.07    20\n",
      "58993  2024  51.0  0.128  276.45  62.53   5.55  34.04    20\n",
      "58994  2024  52.0  0.129  276.48  66.13   3.71  34.92    20\n",
      "\n",
      "[58995 rows x 8 columns]\n"
     ]
    }
   ],
   "source": [
    "folder = 'vhi'\n",
    "files = os.listdir(folder)\n",
    "df_all = []\n",
    "\n",
    "for file_name in files:\n",
    "    headers = ['Year', 'Week', 'SMN', 'SMT', 'VCI', 'TCI', 'VHI', 'empty']\n",
    "    df = pd.read_csv(f'{folder}/{file_name}', header=1, names=headers, skiprows=1)\n",
    "    df = df.drop(columns=['empty'], errors='ignore')\n",
    "    \n",
    "    df['VHI'] = pd.to_numeric(df['VHI'], errors='coerce')\n",
    "    df = df[df['VHI'] != -1].dropna()\n",
    "    \n",
    "    parts = file_name.split(\"_\")\n",
    "    if len(parts) > 2 and parts[2].isdigit():\n",
    "        df['area'] = int(parts[2])\n",
    "    else:\n",
    "        print(f\"Poperedzhennya: nemozhlivo viznachiti 'area' dlya faylika {file_name}\")\n",
    "        continue\n",
    "    \n",
    "    df_all.append(df)\n",
    "\n",
    "df_all = pd.concat(df_all, ignore_index=True)\n",
    "df_all = df_all.dropna(axis=1, how='all')\n",
    "df_all = df_all.drop_duplicates()\n",
    "\n",
    "dict_areas = {1: 22, 2: 24, 3: 23, 4: 25, 5: 3, 6: 4, 7: 8, 8: 19, 9: 20, 10: 21, 11: 9, 13: 10, 14: 11, 15: 12,\n",
    "              16: 13, 17: 15, 18: 14, 19: 16, 21: 17, 22: 18, 23: 6, 24: 1, 25: 2, 26: 7, 27: 5}\n",
    "df_all[\"area\"] = df_all[\"area\"].replace(dict_areas)\n",
    "df_all.to_csv(f'vhi/df_all.csv', index=False)\n",
    "print(\" Dani uspishno obrobleni ta zberezheni y faylik df_all.csv\")\n",
    "print(df_all)\n",
    "df_all['Year'] = df_all['Year'].astype(int)"
   ]
  },
  {
   "cell_type": "markdown",
   "id": "632a3adc656dbfd6",
   "metadata": {
    "collapsed": false
   },
   "source": [
    "Ryad VHI dlya oblasti za vkazaniy rik:"
   ]
  },
  {
   "cell_type": "code",
   "execution_count": 4,
   "id": "9dbad0af5f294086",
   "metadata": {
    "ExecuteTime": {
     "end_time": "2024-03-30T07:36:47.171914Z",
     "start_time": "2024-03-30T07:36:47.157949Z"
    },
    "collapsed": false
   },
   "outputs": [],
   "source": [
    "def vhi(area, year):\n",
    "    return df_all[(df_all[\"area\"] == area) & (df_all[\"Year\"] == year)]['VHI']\n",
    "    if result.empty:\n",
    "        return f\"Nemaye danih dlya oblasti {area} za rik {year}\"\n",
    "\n",
    "\n"
   ]
  },
  {
   "cell_type": "code",
   "execution_count": 5,
   "id": "5c67ef44cb95dba5",
   "metadata": {
    "ExecuteTime": {
     "end_time": "2024-03-30T07:36:48.988524Z",
     "start_time": "2024-03-30T07:36:48.978634Z"
    },
    "collapsed": false
   },
   "outputs": [
    {
     "data": {
      "text/plain": [
       "33921    56.65\n",
       "33922    55.96\n",
       "33923    56.88\n",
       "33924    58.05\n",
       "33925    58.71\n",
       "33926    59.24\n",
       "33927    58.75\n",
       "33928    58.87\n",
       "33929    59.85\n",
       "33930    59.39\n",
       "33931    57.93\n",
       "33932    55.25\n",
       "33933    53.24\n",
       "33934    51.93\n",
       "33935    50.10\n",
       "33936    50.63\n",
       "33937    60.47\n",
       "33938    63.54\n",
       "33939    54.84\n",
       "33940    66.42\n",
       "33941    66.54\n",
       "33942    67.52\n",
       "33943    67.70\n",
       "33944    66.70\n",
       "33945    64.52\n",
       "33946    62.92\n",
       "33947    61.16\n",
       "33948    58.72\n",
       "33949    55.92\n",
       "33950    55.10\n",
       "33951    54.18\n",
       "33952    52.69\n",
       "33953    51.78\n",
       "33954    50.56\n",
       "33955    48.55\n",
       "33956    46.49\n",
       "33957    43.61\n",
       "33958    40.13\n",
       "33959    38.90\n",
       "33960    37.02\n",
       "33961    37.21\n",
       "33962    39.45\n",
       "33963    37.54\n",
       "33964    38.62\n",
       "33965    38.53\n",
       "33966    38.54\n",
       "33967    42.25\n",
       "33968    45.80\n",
       "33969    47.71\n",
       "33970    47.30\n",
       "33971    45.04\n",
       "Name: VHI, dtype: float64"
      ]
     },
     "execution_count": 5,
     "metadata": {},
     "output_type": "execute_result"
    }
   ],
   "source": [
    "vhi(1, 2005)"
   ]
  },
  {
   "cell_type": "markdown",
   "id": "0282c1ca",
   "metadata": {},
   "source": [
    "Poshyk ekstremumiv (min, max), serednyoho, mediany:"
   ]
  },
  {
   "cell_type": "code",
   "execution_count": 6,
   "id": "b5fee2cc",
   "metadata": {},
   "outputs": [],
   "source": [
    "def vhi_extremes(area, year):\n",
    "    result = vhi(area, year)\n",
    "    if result.empty:\n",
    "        return \"Nemaye danih dlya tsyoho zapity\"\n",
    "    \n",
    "    vhi_min = result.min()\n",
    "    vhi_max = result.max()\n",
    "    vhi_mean = round(result.mean(), 2)\n",
    "    vhi_median = result.median()\n",
    "    \n",
    "    print(f\" min: {vhi_min}, max: {vhi_max}, mean: {vhi_mean}, median: {vhi_median}\")"
   ]
  },
  {
   "cell_type": "code",
   "execution_count": 7,
   "id": "c2bb5911b9baf5ff",
   "metadata": {
    "ExecuteTime": {
     "end_time": "2024-03-30T07:38:09.963608Z",
     "start_time": "2024-03-30T07:38:09.955150Z"
    },
    "collapsed": false
   },
   "outputs": [
    {
     "name": "stdout",
     "output_type": "stream",
     "text": [
      " min: 37.02, max: 67.7, mean: 52.85, median: 54.84\n"
     ]
    }
   ],
   "source": [
    "vhi_extremes(1, 2005)\n"
   ]
  },
  {
   "cell_type": "markdown",
   "id": "6c4fa7f1dc1034",
   "metadata": {
    "collapsed": false
   },
   "source": [
    " Ryad VHI za vkazaniy diapazon rokiv dlya vkazanih oblastey:"
   ]
  },
  {
   "cell_type": "code",
   "execution_count": 8,
   "id": "d6330356711067b2",
   "metadata": {
    "ExecuteTime": {
     "end_time": "2024-03-30T07:39:41.943891Z",
     "start_time": "2024-03-30T07:39:41.937760Z"
    },
    "collapsed": false
   },
   "outputs": [],
   "source": [
    "def vhi_for_years(year_min, year_max, areas):\n",
    "    if not isinstance(areas, list) or not areas:\n",
    "        return \"Spisok oblastey maye byti nepystim\"\n",
    "    \n",
    "    result = df_all[(df_all['Year'] >= year_min) & (df_all['Year'] <= year_max) & (df_all['area'].isin(areas))]\n",
    "    return result[['Year', 'VHI', 'area']]"
   ]
  },
  {
   "cell_type": "code",
   "execution_count": 9,
   "id": "8f030efeac64dc00",
   "metadata": {
    "ExecuteTime": {
     "end_time": "2024-03-30T07:39:53.900239Z",
     "start_time": "2024-03-30T07:39:53.883923Z"
    },
    "collapsed": false
   },
   "outputs": [
    {
     "data": {
      "text/html": [
       "<div>\n",
       "<style scoped>\n",
       "    .dataframe tbody tr th:only-of-type {\n",
       "        vertical-align: middle;\n",
       "    }\n",
       "\n",
       "    .dataframe tbody tr th {\n",
       "        vertical-align: top;\n",
       "    }\n",
       "\n",
       "    .dataframe thead th {\n",
       "        text-align: right;\n",
       "    }\n",
       "</style>\n",
       "<table border=\"1\" class=\"dataframe\">\n",
       "  <thead>\n",
       "    <tr style=\"text-align: right;\">\n",
       "      <th></th>\n",
       "      <th>Year</th>\n",
       "      <th>VHI</th>\n",
       "      <th>area</th>\n",
       "    </tr>\n",
       "  </thead>\n",
       "  <tbody>\n",
       "    <tr>\n",
       "      <th>3090</th>\n",
       "      <td>2000</td>\n",
       "      <td>25.03</td>\n",
       "      <td>9</td>\n",
       "    </tr>\n",
       "    <tr>\n",
       "      <th>3091</th>\n",
       "      <td>2000</td>\n",
       "      <td>26.69</td>\n",
       "      <td>9</td>\n",
       "    </tr>\n",
       "    <tr>\n",
       "      <th>3092</th>\n",
       "      <td>2000</td>\n",
       "      <td>28.26</td>\n",
       "      <td>9</td>\n",
       "    </tr>\n",
       "    <tr>\n",
       "      <th>3093</th>\n",
       "      <td>2000</td>\n",
       "      <td>30.80</td>\n",
       "      <td>9</td>\n",
       "    </tr>\n",
       "    <tr>\n",
       "      <th>3094</th>\n",
       "      <td>2000</td>\n",
       "      <td>33.90</td>\n",
       "      <td>9</td>\n",
       "    </tr>\n",
       "    <tr>\n",
       "      <th>...</th>\n",
       "      <td>...</td>\n",
       "      <td>...</td>\n",
       "      <td>...</td>\n",
       "    </tr>\n",
       "    <tr>\n",
       "      <th>53632</th>\n",
       "      <td>2005</td>\n",
       "      <td>49.13</td>\n",
       "      <td>8</td>\n",
       "    </tr>\n",
       "    <tr>\n",
       "      <th>53633</th>\n",
       "      <td>2005</td>\n",
       "      <td>48.69</td>\n",
       "      <td>8</td>\n",
       "    </tr>\n",
       "    <tr>\n",
       "      <th>53634</th>\n",
       "      <td>2005</td>\n",
       "      <td>47.39</td>\n",
       "      <td>8</td>\n",
       "    </tr>\n",
       "    <tr>\n",
       "      <th>53635</th>\n",
       "      <td>2005</td>\n",
       "      <td>47.00</td>\n",
       "      <td>8</td>\n",
       "    </tr>\n",
       "    <tr>\n",
       "      <th>53636</th>\n",
       "      <td>2005</td>\n",
       "      <td>46.53</td>\n",
       "      <td>8</td>\n",
       "    </tr>\n",
       "  </tbody>\n",
       "</table>\n",
       "<p>876 rows × 3 columns</p>\n",
       "</div>"
      ],
      "text/plain": [
       "       Year    VHI  area\n",
       "3090   2000  25.03     9\n",
       "3091   2000  26.69     9\n",
       "3092   2000  28.26     9\n",
       "3093   2000  30.80     9\n",
       "3094   2000  33.90     9\n",
       "...     ...    ...   ...\n",
       "53632  2005  49.13     8\n",
       "53633  2005  48.69     8\n",
       "53634  2005  47.39     8\n",
       "53635  2005  47.00     8\n",
       "53636  2005  46.53     8\n",
       "\n",
       "[876 rows x 3 columns]"
      ]
     },
     "execution_count": 9,
     "metadata": {},
     "output_type": "execute_result"
    }
   ],
   "source": [
    "vhi_for_years(2000, 2005, [1, 8, 9])"
   ]
  },
  {
   "cell_type": "markdown",
   "id": "966b2871126f482f",
   "metadata": {
    "collapsed": false
   },
   "source": [
    "Viyavlennya rokiv z ekstremalnimi posyhami:"
   ]
  },
  {
   "cell_type": "code",
   "execution_count": 10,
   "id": "7f3324f43b066dff",
   "metadata": {
    "ExecuteTime": {
     "end_time": "2024-03-30T07:41:55.498419Z",
     "start_time": "2024-03-30T07:41:55.492828Z"
    },
    "collapsed": false
   },
   "outputs": [],
   "source": [
    "def extreme_droughts_by_percentage(procent):\n",
    "    if not (0 <= procent <= 100):\n",
    "        return \"Vidsotok povinen byti mizh 0 i 100\"\n",
    "\n",
    "    df_droughts = df_all[(df_all['VHI'] <= 15) & (df_all['VHI'] != -1)]\n",
    "    grouped = df_droughts.groupby('Year')['area'].nunique()\n",
    "\n",
    "    required_count = (25 * procent / 100)\n",
    "    extreme_years = grouped[grouped > required_count].reset_index()\n",
    "\n",
    "    result = []\n",
    "\n",
    "    for _, row in extreme_years.iterrows():\n",
    "        year = row['Year']\n",
    "        extreme_areas = df_droughts[df_droughts['Year'] == year]['area'].unique()\n",
    "        vhi_values = df_droughts[(df_droughts['Year'] == year) & (df_droughts['area'].isin(extreme_areas))][['area', 'VHI']]\n",
    "\n",
    "        print(\"\\nRik:\", year)\n",
    "        print(\"Oblasti z ekstremalnoyu posyhoyu:\", \", \".join(map(str, extreme_areas)))\n",
    "        print(\"VHI znachennya:\")\n",
    "        print(\"Oblast | VHI\")\n",
    "        print(\"-\" * 20)\n",
    "        for row in vhi_values.itertuples(index=False):\n",
    "            print(f\"{row.area:^7} | {row.VHI:.2f}\")\n",
    "        print(\"-\" * 20)\n",
    "\n",
    "        result.append({'Year': year, 'Areas': extreme_areas, 'VHI_values': vhi_values})\n",
    "\n",
    "   \n",
    "\n",
    "\n",
    "\n"
   ]
  },
  {
   "cell_type": "code",
   "execution_count": 11,
   "id": "c1611615e5754f8f",
   "metadata": {
    "ExecuteTime": {
     "end_time": "2024-03-30T07:42:18.748476Z",
     "start_time": "2024-03-30T07:42:18.736147Z"
    },
    "collapsed": false
   },
   "outputs": [
    {
     "name": "stdout",
     "output_type": "stream",
     "text": [
      "\n",
      "Rik: 2000\n",
      "Oblasti z ekstremalnoyu posyhoyu: 9, 12, 22, 20, 1, 19\n",
      "VHI znachennya:\n",
      "Oblast | VHI\n",
      "--------------------\n",
      "   9    | 12.51\n",
      "   9    | 10.60\n",
      "   9    | 11.20\n",
      "   9    | 12.32\n",
      "   9    | 14.65\n",
      "  12    | 14.89\n",
      "  12    | 12.76\n",
      "  12    | 7.81\n",
      "  12    | 6.49\n",
      "  12    | 6.58\n",
      "  12    | 6.71\n",
      "  12    | 7.56\n",
      "  12    | 9.25\n",
      "  12    | 10.94\n",
      "  12    | 12.28\n",
      "  22    | 14.64\n",
      "  22    | 11.82\n",
      "  22    | 10.81\n",
      "  22    | 10.68\n",
      "  22    | 12.30\n",
      "  22    | 14.24\n",
      "  20    | 13.14\n",
      "  20    | 9.50\n",
      "  20    | 8.14\n",
      "  20    | 9.69\n",
      "  20    | 11.20\n",
      "  20    | 11.36\n",
      "  20    | 12.77\n",
      "   1    | 12.26\n",
      "   1    | 11.28\n",
      "   1    | 11.25\n",
      "   1    | 11.38\n",
      "   1    | 12.91\n",
      "   1    | 14.20\n",
      "  19    | 14.61\n",
      "  19    | 11.33\n",
      "  19    | 9.36\n",
      "  19    | 9.45\n",
      "  19    | 9.73\n",
      "  19    | 11.45\n",
      "  19    | 14.29\n",
      "--------------------\n"
     ]
    }
   ],
   "source": [
    "extreme_droughts_by_percentage(20)"
   ]
  }
 ],
 "metadata": {
  "kernelspec": {
   "display_name": ".venv",
   "language": "python",
   "name": "python3"
  },
  "language_info": {
   "codemirror_mode": {
    "name": "ipython",
    "version": 3
   },
   "file_extension": ".py",
   "mimetype": "text/x-python",
   "name": "python",
   "nbconvert_exporter": "python",
   "pygments_lexer": "ipython3",
   "version": "3.11.5"
  }
 },
 "nbformat": 4,
 "nbformat_minor": 5
}
