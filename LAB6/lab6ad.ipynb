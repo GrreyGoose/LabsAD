{
 "cells": [
  {
   "cell_type": "code",
   "execution_count": null,
   "metadata": {},
   "outputs": [],
   "source": [
    "import numpy as np\n",
    "import matplotlib.pyplot as plt\n",
    "import seaborn as sns"
   ]
  },
  {
   "cell_type": "code",
   "execution_count": null,
   "metadata": {},
   "outputs": [],
   "source": [
    "k = 2\n",
    "b = 10\n",
    "n = 288\n",
    "\n",
    "x = np.linspace(0, 10, n)\n",
    "noise = np.random.normal(0, 1, n)\n",
    "\n",
    "y = k * x + b + noise\n",
    "y_line_plot = k * x + b"
   ]
  },
  {
   "cell_type": "code",
   "execution_count": null,
   "metadata": {},
   "outputs": [],
   "source": [
    "sns.set_style(\"whitegrid\")\n",
    "plt.figure(figsize=(12, 7))\n",
    "\n",
    "sns.scatterplot(x=x, y=y, label='Згенеровані дані', marker='o', s=80, alpha=0.7, color=sns.color_palette(\"viridis\")[0])\n",
    "sns.lineplot(x=x, y=y_line_plot, label='Справжня пряма ($y = kx + b$)', color=sns.color_palette(\"viridis\")[3], linewidth=2.5, linestyle='-')\n",
    "\n",
    "plt.xlabel('X-вісь', fontsize=12)\n",
    "plt.ylabel('Y-вісь', fontsize=12)\n",
    "plt.legend(fontsize=10)\n",
    "plt.title('Згенеровані дані навколо прямої $y = kx + b$', fontsize=14, fontweight='bold')\n",
    "plt.grid(True, linestyle='--', alpha=0.6)\n",
    "plt.tight_layout()\n",
    "plt.show()"
   ]
  },
  {
   "cell_type": "code",
   "execution_count": null,
   "metadata": {},
   "outputs": [],
   "source": [
    "def least_squares_method_form(x, y):\n",
    "    x_mean = np.mean(x)\n",
    "    y_mean = np.mean(y)\n",
    "    k = np.sum((x - x_mean) * (y - y_mean)) / np.sum((x - x_mean) ** 2)\n",
    "    b = y_mean - k * x_mean\n",
    "    return k, b"
   ]
  },
  {
   "cell_type": "code",
   "execution_count": null,
   "metadata": {},
   "outputs": [],
   "source": [
    "k_squares_f, b_squares_f = least_squares_method_form(x, y)\n",
    "k_polyfit, b_polyfit = np.polyfit(x, y, 1)\n",
    "\n",
    "print(f\"Оригінальні значення: k={k}, b={b}\")\n",
    "print(f\"Оцінені методом найменших квадратів (формули): k={k_squares_f:.15f}, b={b_squares_f:.15f}\")\n",
    "print(f\"Оцінені функцією numpy polyfit: k={k_polyfit:.15f}, b={b_polyfit:.15f}\")"
   ]
  },
  {
   "cell_type": "code",
   "execution_count": null,
   "metadata": {},
   "outputs": [],
   "source": [
    "sns.set_style(\"whitegrid\")\n",
    "plt.figure(figsize=(12, 7))\n",
    "\n",
    "sns.scatterplot(x=x, y=y, label='Згенеровані дані', marker='o', s=80, alpha=0.7, color=sns.color_palette(\"viridis\")[0])\n",
    "sns.lineplot(x=x, y=y_line_plot, label='Справжня пряма', color=sns.color_palette(\"viridis\")[3], linewidth=2.5, linestyle='-')\n",
    "sns.lineplot(x=x, y=k_squares_f * x + b_squares_f, label='Оцінена пряма (формули)', color=sns.color_palette(\"magma\")[2], linewidth=2, linestyle='--')\n",
    "sns.lineplot(x=x, y=k_polyfit * x + b_polyfit, label='Оцінена пряма (numpy polyfit)', color=sns.color_palette(\"cividis\")[1], linewidth=2, linestyle=':')\n",
    "\n",
    "plt.xlabel('X-вісь', fontsize=12)\n",
    "plt.ylabel('Y-вісь', fontsize=12)\n",
    "plt.legend(fontsize=10, loc='upper left')\n",
    "plt.title('Порівняння методів найменших квадратів та функції `numpy.polyfit`', fontsize=14, fontweight='bold')\n",
    "plt.grid(True, linestyle='--', alpha=0.6)\n",
    "plt.tight_layout()\n",
    "plt.show()"
   ]
  },
  {
   "cell_type": "code",
   "execution_count": null,
   "metadata": {},
   "outputs": [],
   "source": [
    "def gradient_descent(x, y, learning_rate=0.01, n_iter=1000, review=0.0001):\n",
    "    k = 0\n",
    "    b = 0\n",
    "    n = len(x)\n",
    "    mistakes = []\n",
    "\n",
    "    for i in range(n_iter):\n",
    "        y_pred = k * x + b\n",
    "        mistake = y_pred - y\n",
    "        mean_mistake = (1 / n) * np.sum(mistake ** 2)\n",
    "        mistakes.append(mean_mistake)\n",
    "\n",
    "        k_gradient = (2 / n) * np.dot(mistake, x)\n",
    "        b_gradient = (2 / n) * np.sum(mistake)\n",
    "\n",
    "        k -= learning_rate * k_gradient\n",
    "        b -= learning_rate * b_gradient\n",
    "\n",
    "        if i > 0 and abs(mistakes[-1] - mistakes[-2]) < review:\n",
    "            print(f\"Градієнтний спуск зупинився на ітерації {i} через мінімальну зміну похибки.\")\n",
    "            break\n",
    "    return k, b, mistakes"
   ]
  },
  {
   "cell_type": "code",
   "execution_count": null,
   "metadata": {},
   "outputs": [],
   "source": [
    "learning_rate = 0.01\n",
    "n_iteration = 1000\n",
    "k_gd, b_gd, mistakes = gradient_descent(x, y, learning_rate, n_iteration)\n",
    "\n",
    "print(f\"Оцінені значення (градієнтний спуск): k={k_gd:.15f}, b={b_gd:.15f}\")"
   ]
  },
  {
   "cell_type": "code",
   "execution_count": null,
   "metadata": {},
   "outputs": [],
   "source": [
    "sns.set_style(\"whitegrid\")\n",
    "plt.figure(figsize=(12, 7))\n",
    "\n",
    "sns.scatterplot(x=x, y=y, label='Згенеровані дані', marker='o', s=80, alpha=0.7, color=sns.color_palette(\"viridis\")[0])\n",
    "sns.lineplot(x=x, y=y_line_plot, label='Справжня пряма ($y = kx + b$)', color=sns.color_palette(\"viridis\")[3], linewidth=2.5, linestyle='-')\n",
    "sns.lineplot(x=x, y=k_gd * x + b_gd, label='Оцінена пряма (градієнтний спуск)', color=sns.color_palette(\"plasma\")[2], linewidth=2, linestyle='-.')\n",
    "sns.lineplot(x=x, y=k_polyfit * x + b_polyfit, label='Оцінена пряма (numpy polyfit)', color=sns.color_palette(\"cividis\")[1], linewidth=2, linestyle=':')\n",
    "\n",
    "plt.xlabel('X-вісь', fontsize=12)\n",
    "plt.ylabel('Y-вісь', fontsize=12)\n",
    "plt.legend(fontsize=10, loc='upper left')\n",
    "plt.title('Порівняння методів: Градієнтний спуск та `np.polyfit`', fontsize=14, fontweight='bold')\n",
    "plt.grid(True, linestyle='--', alpha=0.6)\n",
    "plt.tight_layout()\n",
    "plt.show()"
   ]
  },
  {
   "cell_type": "code",
   "execution_count": null,
   "metadata": {},
   "outputs": [],
   "source": [
    "sns.set_style(\"whitegrid\")\n",
    "plt.figure(figsize=(12, 7))\n",
    "\n",
    "sns.lineplot(x=range(len(mistakes[3:])), y=mistakes[3:], label='Значення похибки', color=sns.color_palette(\"cubehelix\")[4], linewidth=2)\n",
    "\n",
    "plt.xlabel('Ітерація', fontsize=12)\n",
    "plt.ylabel('Середньоквадратична похибка (MSE)', fontsize=12)\n",
    "plt.legend(fontsize=10)\n",
    "plt.title('Залежність похибки від кількості ітерацій градієнтного спуску', fontsize=14, fontweight='bold')\n",
    "plt.grid(True, linestyle='--', alpha=0.6)\n",
    "plt.tight_layout()\n",
    "plt.show()"
   ]
  }
 ],
 "metadata": {
  "kernelspec": {
   "display_name": "Python 3",
   "language": "python",
   "name": "python3"
  },
  "language_info": {
   "name": "python",
   "version": ""
  }
 },
 "nbformat": 4,
 "nbformat_minor": 2
}
